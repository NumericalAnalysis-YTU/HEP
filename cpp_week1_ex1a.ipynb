{
  "nbformat": 4,
  "nbformat_minor": 0,
  "metadata": {
    "colab": {
      "name": "cpp_week1_ex1.ipynb",
      "provenance": [],
      "collapsed_sections": [],
      "authorship_tag": "ABX9TyMVM5GLZGZ0ja3TkDdCF6cy",
      "include_colab_link": true
    },
    "kernelspec": {
      "name": "python3",
      "display_name": "Python 3"
    },
    "language_info": {
      "name": "python"
    }
  },
  "cells": [
    {
      "cell_type": "markdown",
      "metadata": {
        "id": "view-in-github",
        "colab_type": "text"
      },
      "source": [
        "<a href=\"https://colab.research.google.com/github/NumericalAnalysis-YTU/HEP/blob/main/cpp_week1_ex1a.ipynb\" target=\"_parent\"><img src=\"https://colab.research.google.com/assets/colab-badge.svg\" alt=\"Open In Colab\"/></a>"
      ]
    },
    {
      "cell_type": "markdown",
      "source": [
        "## c++ code examples"
      ],
      "metadata": {
        "id": "BAJJ-pdvjKY6"
      }
    },
    {
      "cell_type": "code",
      "source": [
        "%%writefile presentation1_1.cpp\n",
        "#include <stdio.h>\n",
        "int main()\n",
        "{\n",
        "printf(\"My system is %d bits.\\n\",sizeof(void*)*8);\n",
        "}"
      ],
      "metadata": {
        "id": "xF3olqZCPTzk"
      },
      "execution_count": null,
      "outputs": []
    },
    {
      "cell_type": "code",
      "source": [
        "%%script bash\n",
        "\n",
        "g++ presentation1_1.cpp -std=c++11 -o presentation1_1_run\n",
        "./presentation1_1_run"
      ],
      "metadata": {
        "id": "sTqHl362SLbo"
      },
      "execution_count": null,
      "outputs": []
    },
    {
      "cell_type": "code",
      "source": [
        "%%writefile hw1a.cpp\n",
        "// Your First C++ Program\n",
        "/* main() is where program execution begins.*/\n",
        "\n",
        "//using namespace std;\n",
        "#include <iostream>   \n",
        "int main() {\n",
        "    std::cout << \"Hello World!\";    /* prints Hello World */\n",
        "    return 0;\n",
        "}"
      ],
      "metadata": {
        "colab": {
          "base_uri": "https://localhost:8080/"
        },
        "id": "IixwiC1-T5Ig",
        "outputId": "b1fe876a-02e5-4a0f-f1d2-7f4507a79a46"
      },
      "execution_count": null,
      "outputs": [
        {
          "output_type": "stream",
          "name": "stdout",
          "text": [
            "Overwriting hw1a.cpp\n"
          ]
        }
      ]
    },
    {
      "cell_type": "code",
      "source": [
        "%%script bash\n",
        "\n",
        "g++ hw1a.cpp -std=c++11 -o hw1a_run\n",
        "./hw1a_run"
      ],
      "metadata": {
        "colab": {
          "base_uri": "https://localhost:8080/"
        },
        "id": "CYMjcY4qUAXK",
        "outputId": "40b4349d-7fa9-403c-a06c-4c7505aa4a55"
      },
      "execution_count": null,
      "outputs": [
        {
          "output_type": "stream",
          "name": "stdout",
          "text": [
            "Hello World!"
          ]
        }
      ]
    },
    {
      "cell_type": "markdown",
      "source": [
        "Working of C++ \"Hello World!\" Program\n",
        "// Your First C++ Program\n",
        "\n",
        "In $C++$, any line starting with $//$ is a comment. Comments are intended for the person reading the code to better understand the functionality of the program. It is completely ignored by the $C++$ compiler.\n",
        "\n",
        "$ \\#include <iostream> $\n",
        "\n",
        "The #include is a preprocessor directive used to include files in our program. The above code is including the contents of the iostream file.\n",
        "\n",
        "This allows us to use cout in our program to print output on the screen.\n",
        "\n",
        "For now, just remember that we need to use #include <iostream> to use cout that allows us to print output on the screen.\n",
        "\n",
        "$int main() {...}$\n",
        "\n",
        "A valid C++ program must have the main() function. The curly braces indicate the start and the end of the function.\n",
        "\n",
        "The execution of code beings from this function.\n",
        "\n",
        "$std::cout << \"Hello World!\";$\n",
        "\n",
        "std::cout prints the content inside the quotation marks. It must be followed by << followed by the format string. In our example, \"Hello World!\" is the format string.\n",
        "\n",
        "Note: ; is used to indicate the end of a statement.\n",
        "\n",
        "$return 0;$\n",
        "\n",
        "The return 0; statement is the \"Exit status\" of the program. In simple terms, the program ends with this statement."
      ],
      "metadata": {
        "id": "8ZlaZhs_Uhvh"
      }
    },
    {
      "cell_type": "markdown",
      "source": [
        "Let's try a dummy code like this!"
      ],
      "metadata": {
        "id": "TIdOYjJoPkCJ"
      }
    },
    {
      "cell_type": "code",
      "source": [
        "%%writefile hw1.cpp\n",
        "\n",
        "#include <iostream>\n",
        "using namespace std;\n",
        "\n",
        "int main()\n",
        "{\n",
        "  cout << \"In the beginning of FIZ5122...\" << endl;\n",
        "  return 0;\n",
        "}\n"
      ],
      "metadata": {
        "colab": {
          "base_uri": "https://localhost:8080/"
        },
        "id": "PTVFoFcZVfTS",
        "outputId": "3df3c33c-4de5-45ce-ad01-ab01dc13b2cd"
      },
      "execution_count": null,
      "outputs": [
        {
          "output_type": "stream",
          "name": "stdout",
          "text": [
            "Overwriting hw1.cpp\n"
          ]
        }
      ]
    },
    {
      "cell_type": "code",
      "source": [
        "%%script bash\n",
        "\n",
        "g++ hw1.cpp -std=c++11 -o hw1_run\n",
        "./hw1_run"
      ],
      "metadata": {
        "colab": {
          "base_uri": "https://localhost:8080/"
        },
        "id": "iJrZIC2LVmFo",
        "outputId": "3439a380-bc05-423b-f035-6f087d160de7"
      },
      "execution_count": null,
      "outputs": [
        {
          "output_type": "stream",
          "name": "stdout",
          "text": [
            "In the beginning of FIZ5122...\n"
          ]
        }
      ]
    },
    {
      "cell_type": "code",
      "source": [
        "%%writefile integer.cpp\n",
        "\n",
        "#include <iostream>\n",
        "using namespace std;\n",
        "\n",
        "int main() {    \n",
        "    int number;\n",
        "\n",
        "    cout << \"Enter an integer: \";\n",
        "    cin >> number;\n",
        "\n",
        "    cout << \"You entered \" << number;    \n",
        "    return 0;\n",
        "}"
      ],
      "metadata": {
        "colab": {
          "base_uri": "https://localhost:8080/"
        },
        "id": "8M8goF_QV7e4",
        "outputId": "de2e356a-85b7-4c1f-9fee-f920ee333c2f"
      },
      "execution_count": null,
      "outputs": [
        {
          "output_type": "stream",
          "name": "stdout",
          "text": [
            "Overwriting integer.cpp\n"
          ]
        }
      ]
    },
    {
      "cell_type": "code",
      "source": [
        "%%script bash\n",
        "\n",
        "g++ integer.cpp -std=c++11 -o integer_run\n",
        "./integer_run"
      ],
      "metadata": {
        "colab": {
          "base_uri": "https://localhost:8080/"
        },
        "id": "5dO5xFRHWDBn",
        "outputId": "7b1836dd-48e9-4f44-c96e-358ea05e1f19"
      },
      "execution_count": null,
      "outputs": [
        {
          "output_type": "stream",
          "name": "stdout",
          "text": [
            "Enter an integer: You entered 32765"
          ]
        }
      ]
    },
    {
      "cell_type": "code",
      "source": [
        "%%writefile add.cpp\n",
        "// Adding two numbers\n",
        "\n",
        "#include <iostream>\n",
        "using namespace std;\n",
        "\n",
        "int main() {\n",
        "\n",
        "  int first_number, second_number, sum;\n",
        "    \n",
        "  cout << \"Enter two integers: \";\n",
        "  cin >> first_number >> second_number;\n",
        "\n",
        "  // sum of two numbers in stored in variable sumOfTwoNumbers\n",
        "  sum = first_number + second_number;\n",
        "\n",
        "  // prints sum \n",
        "  cout << first_number << \" + \" <<  second_number << \" = \" << sum;     \n",
        "\n",
        "  return 0;\n",
        "}"
      ],
      "metadata": {
        "colab": {
          "base_uri": "https://localhost:8080/"
        },
        "id": "RTHl5EZBWtWY",
        "outputId": "d3e49b55-3a6a-44f8-874d-1741903e3148"
      },
      "execution_count": null,
      "outputs": [
        {
          "output_type": "stream",
          "name": "stdout",
          "text": [
            "Writing add.cpp\n"
          ]
        }
      ]
    },
    {
      "cell_type": "code",
      "source": [
        "%%script bash\n",
        "\n",
        "g++ add.cpp -std=c++11 -o add_run\n",
        "./add_run"
      ],
      "metadata": {
        "id": "PI3R4pH5W7Xj",
        "outputId": "b930bda6-4e9a-4bb6-e4e0-03ceb953f3ac",
        "colab": {
          "base_uri": "https://localhost:8080/"
        }
      },
      "execution_count": null,
      "outputs": [
        {
          "output_type": "stream",
          "name": "stdout",
          "text": [
            "Enter two integers: 22038 + 1688086096 = 1688108134"
          ]
        }
      ]
    },
    {
      "cell_type": "code",
      "source": [
        "\n",
        "%%writefile ex1.cpp\n",
        "\n",
        "#include <stdio.h>\n",
        "#include <stdlib.h>\n",
        "\n",
        "#define M_SIZE 500\n",
        "void do_some_calc()\n",
        "{\n",
        "\tdouble A[M_SIZE][M_SIZE],B[M_SIZE][M_SIZE],C[M_SIZE][M_SIZE];\n",
        "\t\n",
        "\tfor(int i=0;i<M_SIZE;i++)\n",
        "\tfor(int j=0;j<M_SIZE;j++) {\n",
        "\t\tA[i][j] = rand(); B[i][j] = rand();\n",
        "\t}\n",
        "\t\t\t\t\t\t\n",
        "\tfor(int i=0;i<M_SIZE;i++)\n",
        "\tfor(int j=0;j<M_SIZE;j++) {\t\t\n",
        "\t\tC[i][j] = 0.;\n",
        "\t\tfor(int k=0;k<M_SIZE;k++)\n",
        "\t\t\tC[i][j] += A[k][j]*B[i][k];\n",
        "\t}\n",
        "}\n",
        "int main()\n",
        "{\n",
        "\tfor(int i=0;i<100;i++) do_some_calc();\n",
        "}\n"
      ],
      "metadata": {
        "id": "7JGp3NjyO9vn"
      },
      "execution_count": null,
      "outputs": []
    },
    {
      "cell_type": "code",
      "source": [
        "%%writefile presentation1_2.cpp\n",
        "#include <iostream>\n",
        "\n",
        "class data {\n",
        "public:\n",
        "    long A;\n",
        "    char B;\n",
        "    int  C;\n",
        "};\n",
        "\n",
        "int main()\n",
        "{\n",
        "    std::cout << \"size of data = \" << sizeof(data) << \" bytes\" << std::endl;\n",
        "}"
      ],
      "metadata": {
        "colab": {
          "base_uri": "https://localhost:8080/"
        },
        "id": "idSyq2hNQ_nB",
        "outputId": "d75df8c8-1df5-482e-f609-5734adf7b82e"
      },
      "execution_count": 23,
      "outputs": [
        {
          "output_type": "stream",
          "name": "stdout",
          "text": [
            "Writing presentation1_2.cpp\n"
          ]
        }
      ]
    },
    {
      "cell_type": "code",
      "source": [
        "%%script bash\n",
        "\n",
        "g++ presentation1_2.cpp -std=c++11 -o presentation1_2_run\n",
        "./presentation1_2_run"
      ],
      "metadata": {
        "colab": {
          "base_uri": "https://localhost:8080/"
        },
        "id": "MJICbGqjSkJy",
        "outputId": "3b708c05-27ff-46fb-c649-2b64219b4014"
      },
      "execution_count": 24,
      "outputs": [
        {
          "output_type": "stream",
          "name": "stdout",
          "text": [
            "size of data = 16 bytes\n"
          ]
        }
      ]
    },
    {
      "cell_type": "markdown",
      "source": [
        "String\n",
        "\n",
        "The standard C++ library provides a string class type that supports all\n",
        "the operations mentioned above, additionally much more functionality."
      ],
      "metadata": {
        "id": "H56hzpqAQFY1"
      }
    },
    {
      "cell_type": "code",
      "source": [
        "%%writefile pre.cpp\n",
        "#include <iostream>\n",
        "#include <string>\n",
        "using namespace std;\n",
        "int main ()\n",
        "{\n",
        "string str1 = \"Hello\", str2 = \"World\";\n",
        "string  str3 = str1 + str2;\n",
        " cout << \"str1 + str2 : \" << str3 << endl;\n",
        "}"
      ],
      "metadata": {
        "id": "cIgU5qgIQG0W",
        "colab": {
          "base_uri": "https://localhost:8080/"
        },
        "outputId": "6284f70f-4f08-4e5f-b755-e3f28a94bbb8"
      },
      "execution_count": 18,
      "outputs": [
        {
          "output_type": "stream",
          "name": "stdout",
          "text": [
            "Overwriting pre.cpp\n"
          ]
        }
      ]
    },
    {
      "cell_type": "code",
      "source": [
        "%%script bash\n",
        "g++ pre.cpp -o pre_run \n",
        "./pre_run"
      ],
      "metadata": {
        "colab": {
          "base_uri": "https://localhost:8080/"
        },
        "id": "NqPKQNz9efAX",
        "outputId": "859b8080-568d-48d8-fc23-810d9c3c594f"
      },
      "execution_count": 21,
      "outputs": [
        {
          "output_type": "stream",
          "name": "stdout",
          "text": [
            "str1 + str2 : HelloWorld\n"
          ]
        }
      ]
    },
    {
      "cell_type": "code",
      "source": [
        "%%writefile presentation1_4.cpp\n",
        "#include <iostream>\n",
        "\n",
        "int main()\n",
        "{\n",
        "    int my_data_array[1000000000];\n",
        "    \n",
        "// load your data and so on\n",
        "    \n",
        "    std::cout << \"done!\" << std::endl;\n",
        "    return 0;\n",
        "}\n",
        "\n"
      ],
      "metadata": {
        "id": "RA30YT7dRUjw",
        "colab": {
          "base_uri": "https://localhost:8080/"
        },
        "outputId": "1149f1c9-2940-4d6b-8dc3-597f5b66dea2"
      },
      "execution_count": 44,
      "outputs": [
        {
          "output_type": "stream",
          "name": "stdout",
          "text": [
            "Overwriting presentation1_4.cpp\n"
          ]
        }
      ]
    },
    {
      "cell_type": "code",
      "source": [
        "%%script bash\n",
        "g++ presentation1_4.cpp -o presentation1_4_run\n",
        "./presentation1_4_run"
      ],
      "metadata": {
        "colab": {
          "base_uri": "https://localhost:8080/"
        },
        "id": "5goqh8gafppn",
        "outputId": "8a8eb4c4-5011-463b-cebb-48005b798fa4"
      },
      "execution_count": 45,
      "outputs": [
        {
          "output_type": "stream",
          "name": "stderr",
          "text": [
            "bash: line 2:   353 Segmentation fault      (core dumped) ./presentation1_4_run\n"
          ]
        }
      ]
    },
    {
      "cell_type": "code",
      "source": [
        "%%writefile presentation1_5.cpp\n",
        "#include <iostream>\n",
        "\n",
        "int main()\n",
        "{\n",
        "    int *my_data_array = new int[100000000];\n",
        "    \n",
        "    // load your data and so on\n",
        "    \n",
        "    delete[] my_data_array;\n",
        "    \n",
        "    std::cout << \"done!\" << std::endl;\n",
        "    return 0;\n",
        "}\n"
      ],
      "metadata": {
        "id": "SPbllgzURcO2",
        "colab": {
          "base_uri": "https://localhost:8080/"
        },
        "outputId": "e4460ac4-048c-442c-f267-2f592a805482"
      },
      "execution_count": 42,
      "outputs": [
        {
          "output_type": "stream",
          "name": "stdout",
          "text": [
            "Writing presentation1_5.cpp\n"
          ]
        }
      ]
    },
    {
      "cell_type": "code",
      "source": [
        "%%script bash\n",
        "g++ presentation1_5.cpp -o presentation1_5_run\n",
        "./presentation1_5_run"
      ],
      "metadata": {
        "colab": {
          "base_uri": "https://localhost:8080/"
        },
        "id": "x0e_Moy0gdqs",
        "outputId": "85549ed4-233e-4d33-90ad-ad0ef1f3a891"
      },
      "execution_count": 43,
      "outputs": [
        {
          "output_type": "stream",
          "name": "stdout",
          "text": [
            "done!\n"
          ]
        }
      ]
    },
    {
      "cell_type": "code",
      "source": [
        "%%writefile presentation1_6.cpp\n",
        "#include <iostream>\n",
        "#include <vector>\n",
        "\n",
        "int main()\n",
        "{\n",
        "    std::vector<int> data;\n",
        "    \n",
        "    for (int i=0; i<1000; i++) data.push_back(i);\n",
        "    \n",
        "    std::cout << \"size if data = \" << data.size() << std::endl;\n",
        "}\n"
      ],
      "metadata": {
        "id": "1mKSZn8ARjRY",
        "colab": {
          "base_uri": "https://localhost:8080/"
        },
        "outputId": "3560dbd3-9ad8-4477-fd80-1900c13fa11b"
      },
      "execution_count": 47,
      "outputs": [
        {
          "output_type": "stream",
          "name": "stdout",
          "text": [
            "Writing presentation1_6.cpp\n"
          ]
        }
      ]
    },
    {
      "cell_type": "code",
      "source": [
        "%%script bash\n",
        "g++ presentation1_6.cpp -o presentation1_6_run\n",
        "./presentation1_6_run"
      ],
      "metadata": {
        "colab": {
          "base_uri": "https://localhost:8080/"
        },
        "id": "aS_BOiUqgppx",
        "outputId": "95536463-ccfb-467e-b84e-041a7c1ad203"
      },
      "execution_count": 48,
      "outputs": [
        {
          "output_type": "stream",
          "name": "stdout",
          "text": [
            "size if data = 1000\n"
          ]
        }
      ]
    },
    {
      "cell_type": "code",
      "source": [
        "%%writefile presentation1_7.cpp\n",
        "#include <stdio.h>\n",
        "#include <vector>\n",
        "\n",
        "class event\n",
        "{\n",
        "public:\n",
        "    int run_number;\n",
        "    int event_number;\n",
        "    double records[128];\n",
        "};\n",
        "\n",
        "int main()\n",
        "{\n",
        "    std::vector<event> data;\n",
        "    \n",
        "    event evt;\n",
        "    evt.run_number = 1234;\n",
        "    evt.event_number = 5678;\n",
        "    for (int i=0; i<125; i++) evt.records[i] = (double)i;\n",
        "    \n",
        "    data.push_back(evt);\n",
        "    \n",
        "    printf(\"run_number = %d\\n\",data[0].run_number);\n",
        "    printf(\"event_number = %d\\n\",data[0].event_number);\n",
        "    printf(\"records[10] = %g\\n\",data[0].records[10]);\n",
        "}\n"
      ],
      "metadata": {
        "id": "I8fPC-oeRq7D",
        "colab": {
          "base_uri": "https://localhost:8080/"
        },
        "outputId": "b0a3da6d-6c4f-4cab-94b0-9f432f19b6ae"
      },
      "execution_count": 49,
      "outputs": [
        {
          "output_type": "stream",
          "name": "stdout",
          "text": [
            "Writing presentation1_7.cpp\n"
          ]
        }
      ]
    },
    {
      "cell_type": "code",
      "source": [
        "%%script bash\n",
        "g++ presentation1_7.cpp -o presentation1_7_run\n",
        "./presentation1_7_run"
      ],
      "metadata": {
        "colab": {
          "base_uri": "https://localhost:8080/"
        },
        "id": "M4RJ1tfCgwQl",
        "outputId": "f6ddfb38-3454-4328-815c-457d01cc3251"
      },
      "execution_count": 50,
      "outputs": [
        {
          "output_type": "stream",
          "name": "stdout",
          "text": [
            "run_number = 1234\n",
            "event_number = 5678\n",
            "records[10] = 10\n"
          ]
        }
      ]
    },
    {
      "cell_type": "code",
      "source": [
        "%%writefile presentation1_8.cpp\n",
        "class data\n",
        "{\n",
        "public:\n",
        "    double lots_of_records[10000];\n",
        "};\n",
        "\n",
        "void process(data& evt)\n",
        "{\n",
        "    // do nothing for now\n",
        "}\n",
        "\n",
        "int main()\n",
        "{\n",
        "    for (int i=0; i<1000000; i++) {\n",
        "        data evt;\n",
        "        process(evt);\n",
        "    }\n",
        "}\n"
      ],
      "metadata": {
        "id": "e7WF2-EWR_x4",
        "colab": {
          "base_uri": "https://localhost:8080/"
        },
        "outputId": "19ff025d-08ec-4092-b1f7-b5274467bdbb"
      },
      "execution_count": 55,
      "outputs": [
        {
          "output_type": "stream",
          "name": "stdout",
          "text": [
            "Overwriting presentation1_8.cpp\n"
          ]
        }
      ]
    },
    {
      "cell_type": "code",
      "source": [
        "%%script bash\n",
        "g++ presentation1_8.cpp -o presentation1_8_run\n",
        "./presentation1_8_run"
      ],
      "metadata": {
        "id": "TIwJC8Mxg0qb"
      },
      "execution_count": 56,
      "outputs": []
    },
    {
      "cell_type": "markdown",
      "source": [
        "ACCESSING THE DATA MEMBERS\n",
        "\n",
        "The public data members of objects of a class can be accessed using the\n",
        "direct member access operator (.)."
      ],
      "metadata": {
        "id": "eodk1WboQexG"
      }
    },
    {
      "cell_type": "code",
      "source": [
        "%%writefile presentation9.cpp\n",
        "#include <iostream>\n",
        "\n",
        "using namespace std;\n",
        "\n",
        "class Box\n",
        "{\n",
        "   public:\n",
        "      double length;   // Length of a box\n",
        "      double breadth;  // Breadth of a box\n",
        "      double height;   // Height of a box\n",
        "};\n",
        "\n",
        "int main( )\n",
        "{\n",
        "   Box Box1;        // Declare Box1 of type Box\n",
        "   Box Box2;        // Declare Box2 of type Box\n",
        "   double volume = 0.0;     // Store the volume of a box here\n",
        " \n",
        "   // box 1 specification\n",
        "   Box1.height = 5.0; \n",
        "   Box1.length = 6.0; \n",
        "   Box1.breadth = 7.0;\n",
        "\n",
        "   // box 2 specification\n",
        "   Box2.height = 10.0;\n",
        "   Box2.length = 12.0;\n",
        "   Box2.breadth = 13.0;\n",
        "   // volume of box 1\n",
        "   volume = Box1.height * Box1.length * Box1.breadth;\n",
        "   cout << \"Volume of Box1 : \" << volume <<endl;\n",
        "\n",
        "   // volume of box 2\n",
        "   volume = Box2.height * Box2.length * Box2.breadth;\n",
        "   cout << \"Volume of Box2 : \" << volume <<endl;\n",
        "   return 0;\n",
        "}\n"
      ],
      "metadata": {
        "id": "stQtlyqRQXuq",
        "colab": {
          "base_uri": "https://localhost:8080/"
        },
        "outputId": "e01ef81b-a2db-4608-f2a2-f3c8e07b69ed"
      },
      "execution_count": 70,
      "outputs": [
        {
          "output_type": "stream",
          "name": "stdout",
          "text": [
            "Overwriting presentation9.cpp\n"
          ]
        }
      ]
    },
    {
      "cell_type": "code",
      "source": [
        "%%script bash\n",
        "g++ presentation1_9.cpp -o presentation1_9_run\n",
        "./presentation1_9_run"
      ],
      "metadata": {
        "colab": {
          "base_uri": "https://localhost:8080/"
        },
        "id": "cLMIYXngg9K1",
        "outputId": "4fd0bd12-fe25-4be8-9cc8-9dc77cd8be6c"
      },
      "execution_count": 72,
      "outputs": [
        {
          "output_type": "stream",
          "name": "stderr",
          "text": [
            "g++: error: presentation1_9.cpp: No such file or directory\n",
            "g++: fatal error: no input files\n",
            "compilation terminated.\n",
            "bash: line 2: ./presentation1_9_run: No such file or directory\n"
          ]
        }
      ]
    },
    {
      "cell_type": "code",
      "source": [
        " %%writefile presentation1_10.cpp\n",
        "\n",
        " // Inline function that calculates the volume of a sphere.\n",
        "#include <iostream>\n",
        "#include <cmath>\n",
        "using namespace std;\n",
        "const double PI = 3.14159; // define global constant PI \n",
        "\n",
        "// calculates volume of a sphere\n",
        "\n",
        "inline double sphereVolume( const double radius )\n",
        "\n",
        " {\n",
        " return 4.0 / 3.0 * PI * pow( radius, 3 );\n",
        " }\n",
        "  int main()\n",
        " {\n",
        "double radiusValue;\n",
        "\n",
        "// prompt user for radius\n",
        "cout << \"Enter the length of the radius of your sphere: \";\n",
        " cin >> radiusValue; // input radius\n",
        "\n",
        "// use radiusValue to calculate volume of sphere and display result\n",
        "cout << \"Volume of sphere with radius \" << radiusValue\n",
        "<< \" is \" << sphereVolume( radiusValue ) << endl;\n",
        "}"
      ],
      "metadata": {
        "colab": {
          "base_uri": "https://localhost:8080/"
        },
        "id": "vYdOPSD5d4_t",
        "outputId": "712982cc-e153-4c36-a9de-d046781c21f2"
      },
      "execution_count": 81,
      "outputs": [
        {
          "output_type": "stream",
          "name": "stdout",
          "text": [
            "Overwriting presentation1_10.cpp\n"
          ]
        }
      ]
    },
    {
      "cell_type": "code",
      "source": [
        "%%script bash\n",
        "g++ presentation1_10.cpp -o presentation1_10_run \n",
        "./presentation1_10_run "
      ],
      "metadata": {
        "colab": {
          "base_uri": "https://localhost:8080/"
        },
        "id": "pq_YmR7Gk4pN",
        "outputId": "989bb874-043e-48ca-f18c-3fa8ebfe89ea"
      },
      "execution_count": 83,
      "outputs": [
        {
          "output_type": "stream",
          "name": "stdout",
          "text": [
            "Enter the length of the radius of your sphere: Volume of sphere with radius 4.64696e-310 is 0\n"
          ]
        }
      ]
    },
    {
      "cell_type": "code",
      "source": [
        " %%writefile presentation11.cpp\n",
        "// Overloaded square functions.\n",
        " #include <iostream>\n",
        " using namespace std;\n",
        "\n",
        "// function square for int values\n",
        "int square( int x )\n",
        "{\n",
        "cout << \"square of integer \" << x << \" is \";\n",
        " return x * x;\n",
        " }\n",
        "\n",
        "// function square for double values\n",
        "double square( double y )\n",
        "                  15 {\n",
        " cout << \"square of double \" << y << \" is \";\n",
        " return y * y;\n",
        " }\n",
        "\n",
        "int main()\n",
        " {\n",
        "cout <<\n",
        "cout <<\n",
        "cout <<\n",
        "cout <<\n",
        " }"
      ],
      "metadata": {
        "id": "B-XEYdjLeK9c"
      },
      "execution_count": null,
      "outputs": []
    },
    {
      "cell_type": "code",
      "source": [
        "%%script bash\n",
        "g++ presentation11.cpp -o presentation11_run \n",
        "./presentation11_run "
      ],
      "metadata": {
        "id": "G4VHp2m0l8Um"
      },
      "execution_count": null,
      "outputs": []
    },
    {
      "cell_type": "code",
      "source": [
        " %%writefile presentation12.cpp\n",
        "// Using the unary scope resolution operator.\n",
        " #include <iostream>\n",
        " using namespace std;\n",
        "\n",
        "int number = 7; // global variable named number 7\n",
        "\n",
        "int main()\n",
        "{\n",
        "    // display values of global variables\n",
        "cout << \"\\nGlobal int value of number = \" << number << endl;\n",
        "}\n"
      ],
      "metadata": {
        "colab": {
          "base_uri": "https://localhost:8080/"
        },
        "id": "b8nJEoTseS6o",
        "outputId": "7c9dd592-a9be-4ce4-ee46-8ee958a3791c"
      },
      "execution_count": 88,
      "outputs": [
        {
          "output_type": "stream",
          "name": "stdout",
          "text": [
            "Overwriting presentation12.cpp\n"
          ]
        }
      ]
    },
    {
      "cell_type": "code",
      "source": [
        "%%script bash\n",
        "g++ presentation12.cpp -o presentation12_run \n",
        "./presentation12_run "
      ],
      "metadata": {
        "colab": {
          "base_uri": "https://localhost:8080/"
        },
        "id": "gxEt0gmsmCPn",
        "outputId": "ff98c04f-e227-4686-d4c1-0aa0043496e9"
      },
      "execution_count": 89,
      "outputs": [
        {
          "output_type": "stream",
          "name": "stdout",
          "text": [
            "\n",
            "Global int value of number = 7\n"
          ]
        }
      ]
    }
  ]
}