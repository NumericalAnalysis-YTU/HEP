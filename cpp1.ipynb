{
  "nbformat": 4,
  "nbformat_minor": 0,
  "metadata": {
    "colab": {
      "name": "cpp1.ipynb",
      "provenance": [],
      "collapsed_sections": [],
      "authorship_tag": "ABX9TyO/JzjKtykeky+sp8cwKA7h",
      "include_colab_link": true
    },
    "kernelspec": {
      "name": "python3",
      "display_name": "Python 3"
    },
    "language_info": {
      "name": "python"
    }
  },
  "cells": [
    {
      "cell_type": "markdown",
      "metadata": {
        "id": "view-in-github",
        "colab_type": "text"
      },
      "source": [
        "<a href=\"https://colab.research.google.com/github/NumericalAnalysis-YTU/HEP/blob/main/cpp1.ipynb\" target=\"_parent\"><img src=\"https://colab.research.google.com/assets/colab-badge.svg\" alt=\"Open In Colab\"/></a>"
      ]
    },
    {
      "cell_type": "markdown",
      "source": [
        "The C and C++ programming languages are quite different from each other, even though they share some common syntax.\n",
        "\n",
        " First C++ Program\n",
        "\n",
        "Pedagogical and traditional programming books begin by writing the words Hello World to the screen. "
      ],
      "metadata": {
        "id": "8BT7Fu3CJqGG"
      }
    },
    {
      "cell_type": "code",
      "source": [
        "!g++ --version\n"
      ],
      "metadata": {
        "colab": {
          "base_uri": "https://localhost:8080/"
        },
        "id": "I43Yxg2yN7oe",
        "outputId": "d64b9d69-9622-4cb8-eb50-ce5217780120"
      },
      "execution_count": 2,
      "outputs": [
        {
          "output_type": "stream",
          "name": "stdout",
          "text": [
            "g++ (Ubuntu 7.5.0-3ubuntu1~18.04) 7.5.0\n",
            "Copyright (C) 2017 Free Software Foundation, Inc.\n",
            "This is free software; see the source for copying conditions.  There is NO\n",
            "warranty; not even for MERCHANTABILITY or FITNESS FOR A PARTICULAR PURPOSE.\n",
            "\n"
          ]
        }
      ]
    },
    {
      "cell_type": "code",
      "execution_count": 11,
      "metadata": {
        "colab": {
          "base_uri": "https://localhost:8080/"
        },
        "id": "34cYbyV5JfSx",
        "outputId": "77bc9f17-e8fc-411e-f29f-27912830e93c"
      },
      "outputs": [
        {
          "output_type": "stream",
          "name": "stdout",
          "text": [
            "Overwriting hello.cpp\n"
          ]
        }
      ],
      "source": [
        "%%writefile hello.cpp\n",
        "/* First C++ program*/\n",
        "#include <iostream>\n",
        "using namespace std;\n",
        "\n",
        "int main()\n",
        "{\n",
        "  cout << \"Hello World!\";\n",
        "  return 0;\n",
        "}"
      ]
    },
    {
      "cell_type": "code",
      "source": [
        "!g++ hello.cpp -o hello_run; ./hello_run"
      ],
      "metadata": {
        "colab": {
          "base_uri": "https://localhost:8080/"
        },
        "id": "jWTk-XWuOH-1",
        "outputId": "97a1e5e9-9764-4b67-ffcc-9509e7b68c46"
      },
      "execution_count": 15,
      "outputs": [
        {
          "output_type": "stream",
          "name": "stdout",
          "text": [
            "Hello World!"
          ]
        }
      ]
    },
    {
      "cell_type": "code",
      "source": [
        "%%writefile temp.cpp\n",
        "#include <iostream>\n",
        "int main() {\n",
        "  std::cout << \"hello world \\n \\t First program of C++\" << \"\\n\";\n",
        "  std::cout << \"on FIZ5122\";\n",
        "  return 0;\n",
        "}"
      ],
      "metadata": {
        "colab": {
          "base_uri": "https://localhost:8080/"
        },
        "id": "pf0dyFHcO_Xm",
        "outputId": "aa2e281c-ebc5-48bd-f7b8-229f00384ef5"
      },
      "execution_count": 21,
      "outputs": [
        {
          "output_type": "stream",
          "name": "stdout",
          "text": [
            "Overwriting temp.cpp\n"
          ]
        }
      ]
    },
    {
      "cell_type": "code",
      "source": [
        "!g++ temp.cpp -o temp_run; ./temp_run"
      ],
      "metadata": {
        "colab": {
          "base_uri": "https://localhost:8080/"
        },
        "id": "AVnvSyw8PLoH",
        "outputId": "844e326d-e893-4302-9057-db3603f14cbe"
      },
      "execution_count": 23,
      "outputs": [
        {
          "output_type": "stream",
          "name": "stdout",
          "text": [
            "hello world \n",
            " \t First program of C++\n",
            "on FIZ5122"
          ]
        }
      ]
    },
    {
      "cell_type": "markdown",
      "source": [
        "What does it do?\t\n",
        "\n",
        "Character\n",
        "\n",
        "Newline\t\\n\n",
        "Vertical tab\t\\v\n",
        "Backslash\t\\\\\n",
        "Carriage return\t\\r\n",
        "Horizontal tab\t\\t\n",
        "Backspace\t\\b\n",
        "Question mark\t\\?\n",
        "Formfeed\t\\f\n",
        "Alert (bell)\t\\a\n",
        "Double quote\t\\”\n",
        "Single quote\t\\’"
      ],
      "metadata": {
        "id": "EJUmnfmbSxTw"
      }
    },
    {
      "cell_type": "markdown",
      "source": [
        "VARIABLES\n",
        "\n",
        "An identifier is a named memory location.\n",
        "A variable is an identifer that C++ programs use to store values needed by your program.\n",
        "Variable names in C++ can consists of letters, numeric digits, the the underscore character, but they can not begin with a digit. When naming variables, remember that you can not you a C++ keyword. A keyword is a word that the compiler reserves with a special meaning. The length of variable names are limited to 255 characters.\n",
        "\n",
        "DECLARING A VARIABLE\n",
        "\n",
        "You must declare a variable before you can use them\n",
        "\n",
        "Syntax:    Data type   variable name(s);\n",
        "\n",
        "Example:      int x,y ;\n",
        "\n",
        "You can initialize a C++ variable when you declare it.\n",
        "\n",
        "Example:     double  x=4.5;"
      ],
      "metadata": {
        "id": "Y_AvSxZbTiNK"
      }
    },
    {
      "cell_type": "markdown",
      "source": [
        "The first column shows the source code line numbers, these do not actually appear in the source code. The C++ source code for our first program is shown in the second column. The last column shows the output of the program, that is the result of the program once compiled and executed.\n",
        "\n",
        "This very simple C++ program is saved in a file called 01hello.cpp. The program outputs the expression Hello World! to the user's screen. Note that the name of a C++ program file can have the extension .cpp, .c++, .cxx or .cc.\n",
        "\n",
        "Some guides to compiling and running C++ programs: Compiling C++ programs and The Dev-C++ compiler.\n",
        "\n",
        "If you've installed a C++ compiler and set up the proper development environment, you should be able to compile this C++ program and make it into an executable file. A compiler translates the statements of program written in a *high level language* into a *low level language*, the machine code. Each computer language has its own compiler. Examples are: Fortran, C, C++, Java, Pascal, Basic.\n",
        "\n",
        "Now, we will look at the code line by line.\n",
        "\n",
        "* Line 1: // First C++ program\n",
        "\n",
        "This is a comment line. All lines starting with two slash signs (//) are considered as comments. That is such lines are ignored by the compiler, and they do not have any effect on the executable. Comments in programs help the programmer (and users) to understand what the program (or section) does. This becomes especailly important for large program sources, or sources that are part of a larger project where more than one programmer is developing or using the code.\n",
        "\n",
        "* Line 2: #include <iostream>\n",
        "\n",
        "Lines beginning with a hash (or pound) sign (#) are directives for the preprocessor. The preprocessor runs before the compiler each time the compiler is invoked. The preprocessor translates any line that begins with a hash symbol into a special command, getting your code file ready for the compiler. Here, #include <iostream> tells the preprocessor to include the iostream standard file which contains the declarations of the basic standard input-output library in C++.\n",
        "\n",
        "This specific file (iostream) can be found usually under the folder:\n",
        "for Linux (GCC): /usr/include/\n",
        "for Windows (Dev-C++): C:\\Dev-Cpp\\include\\\n",
        "\n",
        "* Line 3: using namespace std;\n",
        "\n",
        "A namespace allows to group entities like variables, classes, objects and functions under a name. All elements belonging to the standard C++ library are declared in what is called a std namespace. For example, cout is defined under std namespace where you can see the details in the file <iostream>. This line will be included in most of the source codes included in these notes. If you omit this line, in order to use cout, you need to write the name of the namespace (std) followed by scope operator (::) before cout. In fact, you have to put std:: before using any elements of std namespace. Such as, std::cout << \"Hello world!\";.\n",
        "\n",
        "* Line 4:\n",
        "\n",
        "An empty line does nothing except for help the programmer to view the source code more clearly.\n",
        "\n",
        "* Line 5: int main()\n",
        "\n",
        "The actual program starts with a function named main(). Every C++ program has a main() function. In general, a function is a block of code that performs one or more actions. Usually functions are invoked or called by other functions, but main() is special. When your program starts, first, main() is called automatically.\n",
        "\n",
        "In C++, each function has a data type. Here data type of the main() is selected as int (integer). That is, at the end of execution of the main program, main() will return an integer number. Functions and returning values are discussed in detail on Section 5.\n",
        "\n",
        "*Lines 6 and 9:\n",
        "\n",
        "The body of the main() function is enclosed in braces ({}).\n",
        "\n",
        "Line 7: cout << \"Hello World!\";\n",
        "This line is a C++ statement which performs the only action that generates a visible effect in our first program. Each statement must end with a semicolon character (;). Here's how cout is used: type the word cout, followed by the output insertion (or redirection) operator (<<). Whatever follows the output insertion operator is output to the screen. If you want to output a string of characters be sure to enclose them in double quotes (\" \"), as shown on line 7, \"Hello World!\".\n",
        "\n",
        "* Line 8: return 0;\n",
        "\n",
        "The return statement causes the main() function (i.e. the program) to finish. All ANSI-compliant programs declare main() to return an int. This value is \"returned\" to the operating system when your program completes.\n",
        "\n",
        "Some programmers signal an error by returning the value different from 0 (in general 1 or -1). However, in these notes, main() will in general return 0, i.e. we will not generate error signals.\n",
        "\n",
        "Finally note that lines 7 and 8 are indented by two spaces; this is for clarity and you can use any number of spaces you like. This becomes more important as your program grows in size."
      ],
      "metadata": {
        "id": "pvKZFfLhKFXS"
      }
    },
    {
      "cell_type": "markdown",
      "source": [
        "Comments\n",
        "\n",
        "C++ supports two types of comments:\n",
        "// line comment\n",
        "The C++ compiler ignores everything after and on the same line of a double-slash.\n",
        "\n",
        "/* block comment */\n",
        "\n",
        "C++ ignores everything between the opening comment mark (/*) and closing comment mark (*/). This block of comments may span more than one line. This is actually taken from C Programming Language.\n",
        "\n",
        "Example usages are given below.\n",
        "\n",
        "  // This comment does not increase the size of\n",
        "\n",
        "  // the executable file (binary code), nor does\n",
        "\n",
        "  // it affect the performance speed.\n",
        "  /*\n",
        "\n",
        "     This comment does not increase the size of the executable file (binary code), nor does it affect the performance speed.\n",
        "  */"
      ],
      "metadata": {
        "id": "XP-MW4P-KxRK"
      }
    },
    {
      "cell_type": "markdown",
      "source": [
        "C++ Variables and Types: Int, Char, Float, Double, String & Bool\n",
        "\n",
        "\n",
        "\n",
        "* int\n",
        "* double\n",
        "* char\n",
        "* \"string\"\n",
        "* bool (true, false) \n",
        "\n",
        "\n",
        "Variables in C++\n",
        "\n",
        "A C++ variable provides us with a named storage capability. It allows the programmer to manipulate data as per the need. Every variable has a type in C++. \n",
        "\n",
        "The variable type helps to determine the size and layout of the variable’s memory map, the range of values that can be stored within that memory, and the set of operations that can be applied to it.\n",
        "\n",
        "* Int:\n",
        "\n",
        "An integer is a numeric literal (associated with numbers) without any fractional or exponential part. Example. 120, -90, etc.\n",
        "\n",
        "* Double:\n",
        "\n",
        "It is a double-precision floating point value. Example: 11.22, 2.345\n",
        "\n",
        "* Char:\n",
        "\n",
        "A character literal is created by enclosing a single character inside single quotation marks. For example: ‘a’, ‘m’, ‘F’, ‘P’, ‘}’ etc.\n",
        "\n",
        "* Float:\n",
        "\n",
        "A floating-point literal is a numeric literal that has either a fractional form or an exponent form. For example: 1.3, 2.6\n",
        "\n",
        "* String Literals:\n",
        "\n",
        "A string literal is a sequence of characters enclosed in double-quote marks. For example: “How are you?”\n",
        "\n",
        "* Bool:\n",
        "\n",
        "It holds Boolean value true or false.\n",
        "\n",
        "\n",
        "Rules of Declaring Variables in C++\n",
        "\n",
        "Here are some common rules for naming a variable:\n",
        "\n",
        "A C++ variable name can only have alphabets, numbers, and underscore.\n",
        "\n",
        "A C++ variable name cannot begin with a number.\n",
        "\n",
        "Variable names should not begin with an uppercase character.\n",
        "\n",
        "A variable name used in C++ cannot be a keyword. For example, int is a keyword that is used to denote integers.\n",
        "\n",
        "A C++ variable name can start with an underscore. However, it is not considered a good practice.\n",
        "\n",
        "Identifiers must\n",
        "\n",
        "begin with either a letter or an underscore (‘_’).\n",
        "\n",
        "And are case-sensitive; upper and lowercase letters are distinct:\n",
        "\n",
        "// defines four different int variables\n",
        "\n",
        "int guru99, gurU99, GuRu99, GURU99;"
      ],
      "metadata": {
        "id": "4vOsMGrkRT4j"
      }
    },
    {
      "cell_type": "code",
      "source": [
        ""
      ],
      "metadata": {
        "id": "sed3H45GRAUv"
      },
      "execution_count": null,
      "outputs": []
    },
    {
      "cell_type": "markdown",
      "source": [
        "Basic Input and Output (I/O)\n",
        "\n",
        "The standard C++ library includes the header file iostream, where the standard input and output stream objects are declared. One can see 'streams in C++' how to use:\n",
        "\n",
        "* cout to output data to the screen and\n",
        "* cin to input data from the keyboard.\n",
        "\n",
        "Streams are out of scope of this basic tutorial.\n",
        "\n",
        "Standard Output\n",
        "\n",
        "By default, the standard output of a program is the screen, the C++ stream object defined to access it is cout. For now, you can use cout without fully understanding how it works. To output a value to the screen, we need to use cout, followed by the insertion operator (<<), which you create by typing the less-than character (<) twice. Even though this is two characters, C++ treats it as one.\n",
        "\n",
        "Here are some basic usage examples:\n",
        "\n",
        "  cout << \"Hello World!\";    // Outputs \n",
        "\n",
        "\"Hello World!\" on the screen\n",
        "\n",
        "  cout << 1299;              // Outputs \n",
        "\n",
        "the number 1299 on the screen\n",
        "\n",
        "  cout << x;                 // Outputs \n",
        "\n",
        "the content of x on the screen\n",
        "The insertion operator (<<) may be used more than once in a single statement:\n",
        "\n",
        "  cout << \"Hi, \" << \"this is \" << \"a \n",
        "\n",
        "simple C++ statement\";\n",
        "Note that, cout does not add a line break. For example:\n",
        "\n",
        "  cout << \"Computer Programming \";\n",
        "  cout << \"is important for engineers.\";\n",
        "\n",
        "will be output as\n",
        "\n",
        "  Computer Programming is important for engineers.\n",
        "\n",
        "A line break can be added by inserting a '\\n' character or a using a endl manipulator.\n",
        "\n",
        "  cout << \"Computer Programming \\n\";\n",
        "  cout << \"is important for engineers.\";\n",
        "\n",
        "or\n",
        "\n",
        "  cout << \"Computer Programming \" << endl;\n",
        "\n",
        "  cout << \"is important for engineers.\";\n",
        "\n",
        "These two produce the following (same) output:\n",
        "\n",
        "*  Computer Programming is \n",
        "*  important for engineers.\n",
        "\n",
        "Standard Input\n",
        "\n",
        "By default, the standard input device is the keyboard. The C++ stream object defined to access it is cin. Handling the standard input is done by applying the overloaded operator of extraction (>>) on the cin stream.\n",
        "\n",
        "A value can be input from the keyboard and assigned to a variable x as follows:\n",
        "\n",
        "  cin >> x;\n",
        "\n",
        "and two variables can assigned as follows:\n",
        " *  cin >> x;\n",
        " *  cin >> y;\n",
        "or\n",
        "  cin >> x >> y;\n",
        "The following program summaries the use of cout and cin; two integer values are input and their sum is output."
      ],
      "metadata": {
        "id": "OJjNF9BvK-5d"
      }
    },
    {
      "cell_type": "code",
      "source": [
        "%%writefile temp.cpp\n",
        "#include <iostream>\n",
        "\n",
        "int main() {\n",
        "  for (int i = 0; i < 10; i++) std::cout << \"Hello World\" << \"\\n\";\n",
        "}"
      ],
      "metadata": {
        "id": "4jYvOOd9P3hG"
      },
      "execution_count": null,
      "outputs": []
    },
    {
      "cell_type": "code",
      "source": [
        "!g++ temp.cpp; ./a.out"
      ],
      "metadata": {
        "id": "1DOan1PzP84k"
      },
      "execution_count": null,
      "outputs": []
    },
    {
      "cell_type": "code",
      "source": [
        "%%writefile temp.cpp\n",
        "// Calculates the sum of two integers\n",
        "#include <iostream>\n",
        "using namespace std;\n",
        "\n",
        "int main()\n",
        "{\n",
        "  int a, b, total;\n",
        "  cout << \"Enter two integers to be added: \";\n",
        "  cin >> a >> b;\n",
        "  total = a + b;\n",
        "  cout << \"The sum is \" << total << endl;\n",
        "\n",
        "  return 0;\n",
        "}"
      ],
      "metadata": {
        "id": "xCBGPFKlKA9K"
      },
      "execution_count": null,
      "outputs": []
    },
    {
      "cell_type": "code",
      "source": [
        "!g++ temp.cpp; ./a.out"
      ],
      "metadata": {
        "id": "TkBVtsPRP_i5"
      },
      "execution_count": null,
      "outputs": []
    },
    {
      "cell_type": "code",
      "source": [
        "%%writefile temp.cpp\n",
        "#include <iostream>\n",
        "\n",
        "int main() {\n",
        "    std::cout << \"Hello World! \\n\\n\";\n",
        "    std::cout << \"I am learning C++\";\n",
        "    return 0;\n",
        "}"
      ],
      "metadata": {
        "colab": {
          "base_uri": "https://localhost:8080/"
        },
        "id": "4dTuT39EQE5i",
        "outputId": "f64b7cb7-8366-48b9-8aa4-7db45e0ea974"
      },
      "execution_count": 27,
      "outputs": [
        {
          "output_type": "stream",
          "name": "stdout",
          "text": [
            "Overwriting temp.cpp\n"
          ]
        }
      ]
    },
    {
      "cell_type": "code",
      "source": [
        "!g++ temp.cpp; ./a.out"
      ],
      "metadata": {
        "colab": {
          "base_uri": "https://localhost:8080/"
        },
        "id": "c_fHoFf8QIHz",
        "outputId": "f8cd5a14-cc2d-49a6-9e23-6010e2fdb738"
      },
      "execution_count": 28,
      "outputs": [
        {
          "output_type": "stream",
          "name": "stdout",
          "text": [
            "Hello World! \n",
            "\n",
            "I am learning C++"
          ]
        }
      ]
    },
    {
      "cell_type": "markdown",
      "source": [
        "Three integer variables are declared on line 7 (we will see the details of the variables in the next section). At line 9 variables a and b are assigned with values that are input from the keyboard, their sum is assigned to the variable total on line 10, and the contents of total is output on line 11.\n",
        "\n",
        "\n",
        "Examples\n",
        "\n",
        "The following program is another example of basic input and output.\n",
        "\n",
        "Note the use of std:: (removing the need for the using namespace statement), and the omission of the return statement (which is optional)."
      ],
      "metadata": {
        "id": "vbCGxblLLqHK"
      }
    },
    {
      "cell_type": "code",
      "source": [
        "%%writefile temp.cpp\n",
        "// Calculates the area of a triangle\n",
        "// given an input of the triangle base and height.\n",
        "#include <iostream>\n",
        "\n",
        "int main()\n",
        "{\n",
        "  float base, height, area;\n",
        "  std::cout << \"Enter the base and height of the triangle: \";\n",
        "  std::cin >> base >> height;\n",
        "  area = 0.5*base*height;\n",
        "  std::cout << \"The area of the triangle is \" << area << std::endl;\n",
        "}"
      ],
      "metadata": {
        "colab": {
          "base_uri": "https://localhost:8080/"
        },
        "id": "AdcYLnH6LxO-",
        "outputId": "3bedd1dc-3243-472f-a2f3-e5cfe153fbfc"
      },
      "execution_count": 24,
      "outputs": [
        {
          "output_type": "stream",
          "name": "stdout",
          "text": [
            "Overwriting temp.cpp\n"
          ]
        }
      ]
    },
    {
      "cell_type": "code",
      "source": [
        "!g++ temp.cpp; ./a.out"
      ],
      "metadata": {
        "colab": {
          "base_uri": "https://localhost:8080/"
        },
        "id": "zMoS3M3YQJiv",
        "outputId": "8fcaaa1d-32e4-4da0-e71d-0f6831647a48"
      },
      "execution_count": 26,
      "outputs": [
        {
          "output_type": "stream",
          "name": "stdout",
          "text": [
            "Enter the base and height of the triangle: 2 3\n",
            "The area of the triangle is 3\n"
          ]
        }
      ]
    },
    {
      "cell_type": "markdown",
      "source": [
        "|Operator Name\t|Operator Symbol|\tExample\t| Comment\n",
        "|--- | ---| ---|---\n",
        "|Addition |\t+\t |num1 + num2\t|.\n",
        "|Subtraction\t|-|\tnum1 - num2\t|.\n",
        "|Multiplicaton\t|*  |\tnum1*num2\t|.\n",
        "|Division |\t/\t|15/3 or  15.0/2.0 |Integer division; result is 7; fraction is truncated  / Floating-point division; result is 7.500000 |\n",
        "|Modulus|\t%\t|5%2|\tPerforms the division and finds the remainder; the result is 1\n",
        "|Unary minus\t-\t-(num1)\tif value of num1 is 10, then -(num1) is -10\n",
        "|Assignment\t|=|\tnum1=10;\t|assigns 10 to variable num1|\n",
        "|+=|\tnum += 10;\t|Equivalent to num = num +10;|\n",
        "|-=|\tnum -= 10;  |\tEquivalent to num = num -10;|\n",
        "|*=\t|num |*= 10;\t|Equivalent to num = num *10;|\n",
        "|/=\t|num /= 10;\t  |Equivalent to num = num /10;|\n",
        "|%=\t|num %= 10;\t  |Equivalent to num = num %10;|\n",
        "|Increment|\t++\t  |num++ or ++num|\tIncrement num to 1|\n",
        "|Decrement\t|--   |num-- or --num|\tDecrement num to 1|"
      ],
      "metadata": {
        "id": "NojU2vKvLn_f"
      }
    }
  ]
}