{
  "nbformat": 4,
  "nbformat_minor": 0,
  "metadata": {
    "colab": {
      "name": "cpp_week1_ex1.ipynb",
      "provenance": [],
      "collapsed_sections": [],
      "authorship_tag": "ABX9TyPiAplk1Au+c71qUR+BtPmY",
      "include_colab_link": true
    },
    "kernelspec": {
      "name": "python3",
      "display_name": "Python 3"
    },
    "language_info": {
      "name": "python"
    }
  },
  "cells": [
    {
      "cell_type": "markdown",
      "metadata": {
        "id": "view-in-github",
        "colab_type": "text"
      },
      "source": [
        "<a href=\"https://colab.research.google.com/github/NumericalAnalysis-YTU/HEP/blob/main/cpp_week1_ex1.ipynb\" target=\"_parent\"><img src=\"https://colab.research.google.com/assets/colab-badge.svg\" alt=\"Open In Colab\"/></a>"
      ]
    },
    {
      "cell_type": "markdown",
      "source": [
        "## c++ code examples"
      ],
      "metadata": {
        "id": "BAJJ-pdvjKY6"
      }
    },
    {
      "cell_type": "code",
      "source": [
        "%%writefile presentation1_1.cpp\n",
        "#include <stdio.h>\n",
        "int main()\n",
        "{\n",
        "printf(\"My system is %d bits.\\n\",sizeof(void*)*8);\n",
        "}"
      ],
      "metadata": {
        "id": "xF3olqZCPTzk"
      },
      "execution_count": null,
      "outputs": []
    },
    {
      "cell_type": "code",
      "source": [
        "%%script bash\n",
        "\n",
        "g++ presentation1_1.cpp -std=c++11 -o presentation1_1_run\n",
        "./presentation1_1_run"
      ],
      "metadata": {
        "id": "sTqHl362SLbo"
      },
      "execution_count": null,
      "outputs": []
    },
    {
      "cell_type": "code",
      "source": [
        "%%writefile hw1a.cpp\n",
        "// Your First C++ Program\n",
        "/* main() is where program execution begins.*/\n",
        "\n",
        "//using namespace std;\n",
        "#include <iostream>   \n",
        "int main() {\n",
        "    std::cout << \"Hello World!\";    /* prints Hello World */\n",
        "    return 0;\n",
        "}"
      ],
      "metadata": {
        "colab": {
          "base_uri": "https://localhost:8080/"
        },
        "id": "IixwiC1-T5Ig",
        "outputId": "b1fe876a-02e5-4a0f-f1d2-7f4507a79a46"
      },
      "execution_count": null,
      "outputs": [
        {
          "output_type": "stream",
          "name": "stdout",
          "text": [
            "Overwriting hw1a.cpp\n"
          ]
        }
      ]
    },
    {
      "cell_type": "code",
      "source": [
        "%%script bash\n",
        "\n",
        "g++ hw1a.cpp -std=c++11 -o hw1a_run\n",
        "./hw1a_run"
      ],
      "metadata": {
        "colab": {
          "base_uri": "https://localhost:8080/"
        },
        "id": "CYMjcY4qUAXK",
        "outputId": "40b4349d-7fa9-403c-a06c-4c7505aa4a55"
      },
      "execution_count": null,
      "outputs": [
        {
          "output_type": "stream",
          "name": "stdout",
          "text": [
            "Hello World!"
          ]
        }
      ]
    },
    {
      "cell_type": "markdown",
      "source": [
        "Working of C++ \"Hello World!\" Program\n",
        "// Your First C++ Program\n",
        "\n",
        "In $C++$, any line starting with $//$ is a comment. Comments are intended for the person reading the code to better understand the functionality of the program. It is completely ignored by the $C++$ compiler.\n",
        "\n",
        "$ \\#include <iostream> $\n",
        "\n",
        "The #include is a preprocessor directive used to include files in our program. The above code is including the contents of the iostream file.\n",
        "\n",
        "This allows us to use cout in our program to print output on the screen.\n",
        "\n",
        "For now, just remember that we need to use #include <iostream> to use cout that allows us to print output on the screen.\n",
        "\n",
        "$int main() {...}$\n",
        "\n",
        "A valid C++ program must have the main() function. The curly braces indicate the start and the end of the function.\n",
        "\n",
        "The execution of code beings from this function.\n",
        "\n",
        "$std::cout << \"Hello World!\";$\n",
        "\n",
        "std::cout prints the content inside the quotation marks. It must be followed by << followed by the format string. In our example, \"Hello World!\" is the format string.\n",
        "\n",
        "Note: ; is used to indicate the end of a statement.\n",
        "\n",
        "$return 0;$\n",
        "\n",
        "The return 0; statement is the \"Exit status\" of the program. In simple terms, the program ends with this statement."
      ],
      "metadata": {
        "id": "8ZlaZhs_Uhvh"
      }
    },
    {
      "cell_type": "markdown",
      "source": [
        "Let's try a dummy code like this!"
      ],
      "metadata": {
        "id": "TIdOYjJoPkCJ"
      }
    },
    {
      "cell_type": "code",
      "source": [
        "%%writefile hw1.cpp\n",
        "\n",
        "#include <iostream>\n",
        "using namespace std;\n",
        "\n",
        "int main()\n",
        "{\n",
        "  cout << \"In the beginning of FIZ5122...\" << endl;\n",
        "  return 0;\n",
        "}\n"
      ],
      "metadata": {
        "colab": {
          "base_uri": "https://localhost:8080/"
        },
        "id": "PTVFoFcZVfTS",
        "outputId": "3df3c33c-4de5-45ce-ad01-ab01dc13b2cd"
      },
      "execution_count": null,
      "outputs": [
        {
          "output_type": "stream",
          "name": "stdout",
          "text": [
            "Overwriting hw1.cpp\n"
          ]
        }
      ]
    },
    {
      "cell_type": "code",
      "source": [
        "%%script bash\n",
        "\n",
        "g++ hw1.cpp -std=c++11 -o hw1_run\n",
        "./hw1_run"
      ],
      "metadata": {
        "colab": {
          "base_uri": "https://localhost:8080/"
        },
        "id": "iJrZIC2LVmFo",
        "outputId": "3439a380-bc05-423b-f035-6f087d160de7"
      },
      "execution_count": null,
      "outputs": [
        {
          "output_type": "stream",
          "name": "stdout",
          "text": [
            "In the beginning of FIZ5122...\n"
          ]
        }
      ]
    },
    {
      "cell_type": "code",
      "source": [
        "%%writefile integer.cpp\n",
        "\n",
        "#include <iostream>\n",
        "using namespace std;\n",
        "\n",
        "int main() {    \n",
        "    int number;\n",
        "\n",
        "    cout << \"Enter an integer: \";\n",
        "    cin >> number;\n",
        "\n",
        "    cout << \"You entered \" << number;    \n",
        "    return 0;\n",
        "}"
      ],
      "metadata": {
        "colab": {
          "base_uri": "https://localhost:8080/"
        },
        "id": "8M8goF_QV7e4",
        "outputId": "de2e356a-85b7-4c1f-9fee-f920ee333c2f"
      },
      "execution_count": null,
      "outputs": [
        {
          "output_type": "stream",
          "name": "stdout",
          "text": [
            "Overwriting integer.cpp\n"
          ]
        }
      ]
    },
    {
      "cell_type": "code",
      "source": [
        "%%script bash\n",
        "\n",
        "g++ integer.cpp -std=c++11 -o integer_run\n",
        "./integer_run"
      ],
      "metadata": {
        "colab": {
          "base_uri": "https://localhost:8080/"
        },
        "id": "5dO5xFRHWDBn",
        "outputId": "7b1836dd-48e9-4f44-c96e-358ea05e1f19"
      },
      "execution_count": null,
      "outputs": [
        {
          "output_type": "stream",
          "name": "stdout",
          "text": [
            "Enter an integer: You entered 32765"
          ]
        }
      ]
    },
    {
      "cell_type": "code",
      "source": [
        "%%writefile add.cpp\n",
        "// Adding two numbers\n",
        "\n",
        "#include <iostream>\n",
        "using namespace std;\n",
        "\n",
        "int main() {\n",
        "\n",
        "  int first_number, second_number, sum;\n",
        "    \n",
        "  cout << \"Enter two integers: \";\n",
        "  cin >> first_number >> second_number;\n",
        "\n",
        "  // sum of two numbers in stored in variable sumOfTwoNumbers\n",
        "  sum = first_number + second_number;\n",
        "\n",
        "  // prints sum \n",
        "  cout << first_number << \" + \" <<  second_number << \" = \" << sum;     \n",
        "\n",
        "  return 0;\n",
        "}"
      ],
      "metadata": {
        "colab": {
          "base_uri": "https://localhost:8080/"
        },
        "id": "RTHl5EZBWtWY",
        "outputId": "d3e49b55-3a6a-44f8-874d-1741903e3148"
      },
      "execution_count": null,
      "outputs": [
        {
          "output_type": "stream",
          "name": "stdout",
          "text": [
            "Writing add.cpp\n"
          ]
        }
      ]
    },
    {
      "cell_type": "code",
      "source": [
        "%%script bash\n",
        "\n",
        "g++ add.cpp -std=c++11 -o add_run\n",
        "./add_run"
      ],
      "metadata": {
        "id": "PI3R4pH5W7Xj",
        "outputId": "b930bda6-4e9a-4bb6-e4e0-03ceb953f3ac",
        "colab": {
          "base_uri": "https://localhost:8080/"
        }
      },
      "execution_count": null,
      "outputs": [
        {
          "output_type": "stream",
          "name": "stdout",
          "text": [
            "Enter two integers: 22038 + 1688086096 = 1688108134"
          ]
        }
      ]
    },
    {
      "cell_type": "code",
      "source": [
        "\n",
        "%%writefile ex1.cpp\n",
        "\n",
        "#include <stdio.h>\n",
        "#include <stdlib.h>\n",
        "\n",
        "#define M_SIZE 500\n",
        "void do_some_calc()\n",
        "{\n",
        "\tdouble A[M_SIZE][M_SIZE],B[M_SIZE][M_SIZE],C[M_SIZE][M_SIZE];\n",
        "\t\n",
        "\tfor(int i=0;i<M_SIZE;i++)\n",
        "\tfor(int j=0;j<M_SIZE;j++) {\n",
        "\t\tA[i][j] = rand(); B[i][j] = rand();\n",
        "\t}\n",
        "\t\t\t\t\t\t\n",
        "\tfor(int i=0;i<M_SIZE;i++)\n",
        "\tfor(int j=0;j<M_SIZE;j++) {\t\t\n",
        "\t\tC[i][j] = 0.;\n",
        "\t\tfor(int k=0;k<M_SIZE;k++)\n",
        "\t\t\tC[i][j] += A[k][j]*B[i][k];\n",
        "\t}\n",
        "}\n",
        "int main()\n",
        "{\n",
        "\tfor(int i=0;i<100;i++) do_some_calc();\n",
        "}\n"
      ],
      "metadata": {
        "id": "7JGp3NjyO9vn"
      },
      "execution_count": null,
      "outputs": []
    },
    {
      "cell_type": "code",
      "source": [
        "%%writefile presentation1_2.cpp\n",
        "#include <iostream>\n",
        "\n",
        "class data {\n",
        "public:\n",
        "    long A;\n",
        "    char B;\n",
        "    int  C;\n",
        "};\n",
        "\n",
        "int main()\n",
        "{\n",
        "    std::cout << \"size of data = \" << sizeof(data) << \" bytes\" << std::endl;\n",
        "}"
      ],
      "metadata": {
        "colab": {
          "base_uri": "https://localhost:8080/"
        },
        "id": "idSyq2hNQ_nB",
        "outputId": "898c3647-b4e0-4a1c-bb8d-64bd0c729fdd"
      },
      "execution_count": null,
      "outputs": [
        {
          "output_type": "stream",
          "name": "stdout",
          "text": [
            "Writing presentation1_2.cpp\n"
          ]
        }
      ]
    },
    {
      "cell_type": "code",
      "source": [
        "%%script bash\n",
        "\n",
        "g++ presentation1_2.cpp -std=c++11 -o presentation1_2_run\n",
        "./presentation1_2_run"
      ],
      "metadata": {
        "colab": {
          "base_uri": "https://localhost:8080/"
        },
        "id": "MJICbGqjSkJy",
        "outputId": "93ca711b-55b8-4c4d-c656-6d5b764ccaa5"
      },
      "execution_count": null,
      "outputs": [
        {
          "output_type": "stream",
          "name": "stdout",
          "text": [
            "size of data = 16 bytes\n"
          ]
        }
      ]
    },
    {
      "cell_type": "markdown",
      "source": [
        "String\n",
        "\n",
        "The standard C++ library provides a string class type that supports all\n",
        "the operations mentioned above, additionally much more functionality."
      ],
      "metadata": {
        "id": "H56hzpqAQFY1"
      }
    },
    {
      "cell_type": "code",
      "source": [
        "%%writefile presentation1_3.cpp\n",
        "#include <iostream>\n",
        "#include <string>\n",
        "using namespace std;\n",
        "int main ()\n",
        "{\n",
        "string str1 = \"Hello\", str2 = \"World\";\n",
        "str3 = str1 + str2;\n",
        " cout << \"str1 + str2 : \" << str3 << endl;\n",
        "}"
      ],
      "metadata": {
        "id": "cIgU5qgIQG0W"
      },
      "execution_count": null,
      "outputs": []
    },
    {
      "cell_type": "code",
      "source": [
        "%%writefile presentation1_4.cpp\n",
        "#include <iostream>\n",
        "\n",
        "int main()\n",
        "{\n",
        "    int my_data_array[100000000];\n",
        "    \n",
        "    // load your data and so on\n",
        "    \n",
        "    std::cout << \"done!\" << std::endl;\n",
        "    return 0;\n",
        "}\n",
        "\n"
      ],
      "metadata": {
        "id": "RA30YT7dRUjw"
      },
      "execution_count": null,
      "outputs": []
    },
    {
      "cell_type": "code",
      "source": [
        "%%writefile presentation1_5.cpp\n",
        "#include <iostream>\n",
        "\n",
        "int main()\n",
        "{\n",
        "    int *my_data_array = new int[100000000];\n",
        "    \n",
        "    // load your data and so on\n",
        "    \n",
        "    delete[] my_data_array;\n",
        "    \n",
        "    std::cout << \"done!\" << std::endl;\n",
        "    return 0;\n",
        "}\n"
      ],
      "metadata": {
        "id": "SPbllgzURcO2"
      },
      "execution_count": null,
      "outputs": []
    },
    {
      "cell_type": "code",
      "source": [
        "%%writefile presentation1_6.cpp\n",
        "#include <iostream>\n",
        "#include <vector>\n",
        "\n",
        "int main()\n",
        "{\n",
        "    std::vector<int> data;\n",
        "    \n",
        "    for (int i=0; i<1000; i++) data.push_back(i);\n",
        "    \n",
        "    std::cout << \"size if data = \" << data.size() << std::endl;\n",
        "}\n"
      ],
      "metadata": {
        "id": "1mKSZn8ARjRY"
      },
      "execution_count": null,
      "outputs": []
    },
    {
      "cell_type": "code",
      "source": [
        "%%writefile presentation1_7.cpp\n",
        "#include <stdio.h>\n",
        "#include <vector>\n",
        "\n",
        "class event\n",
        "{\n",
        "public:\n",
        "    int run_number;\n",
        "    int event_number;\n",
        "    double records[128];\n",
        "};\n",
        "\n",
        "int main()\n",
        "{\n",
        "    std::vector<event> data;\n",
        "    \n",
        "    event evt;\n",
        "    evt.run_number = 1234;\n",
        "    evt.event_number = 5678;\n",
        "    for (int i=0; i<125; i++) evt.records[i] = (double)i;\n",
        "    \n",
        "    data.push_back(evt);\n",
        "    \n",
        "    printf(\"run_number = %d\\n\",data[0].run_number);\n",
        "    printf(\"event_number = %d\\n\",data[0].event_number);\n",
        "    printf(\"records[10] = %g\\n\",data[0].records[10]);\n",
        "}\n"
      ],
      "metadata": {
        "id": "I8fPC-oeRq7D"
      },
      "execution_count": null,
      "outputs": []
    },
    {
      "cell_type": "code",
      "source": [
        "%%writefile presentation1_8.cpp\n",
        "class data\n",
        "{\n",
        "public:\n",
        "    double lots_of_records[10000];\n",
        "};\n",
        "\n",
        "void process(data& evt)\n",
        "{\n",
        "    // do nothing for now\n",
        "}\n",
        "\n",
        "int main()\n",
        "{\n",
        "    for (int i=0; i<1000000; i++) {\n",
        "        data evt;\n",
        "        process(evt);\n",
        "    }\n",
        "}\n"
      ],
      "metadata": {
        "id": "e7WF2-EWR_x4"
      },
      "execution_count": null,
      "outputs": []
    },
    {
      "cell_type": "markdown",
      "source": [
        "ACCESSING THE DATA MEMBERS\n",
        "\n",
        "The public data members of objects of a class can be accessed using the\n",
        "direct member access operator (.)."
      ],
      "metadata": {
        "id": "eodk1WboQexG"
      }
    },
    {
      "cell_type": "code",
      "source": [
        "%%writefile presentation3.cpp\n",
        "class Box {\n",
        "public:\n",
        "double length, breadth, height;\n",
        "};\n",
        "int main()\n",
        "{\n",
        "Box Box1; // Declare Box1 of type Box\n",
        "Box1.height = 5.0;\n",
        "Box1.length = 6.0;\n",
        "Box1.breadth = 7.0;\n",
        "double volume = Box1.height * Box1.length * Box1.breadth;\n",
        "cout << \"Volume of Box1 : \" << volume <<endl;\n",
        "}"
      ],
      "metadata": {
        "id": "stQtlyqRQXuq"
      },
      "execution_count": null,
      "outputs": []
    }
  ]
}